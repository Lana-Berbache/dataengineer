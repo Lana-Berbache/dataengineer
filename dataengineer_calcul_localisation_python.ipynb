{
 "cells": [
  {
   "cell_type": "markdown",
   "id": "7137ebed",
   "metadata": {},
   "source": [
    "# 1 - importation packages"
   ]
  },
  {
   "cell_type": "code",
   "execution_count": 13,
   "id": "857764fa",
   "metadata": {},
   "outputs": [],
   "source": [
    "import geopy\n",
    "#on installe la librairie GeoPy qui permet d’utiliser un certain nombre de géocodeurs différents.\n",
    "#Ici, on utilise Nominatim.\n",
    "import csv"
   ]
  },
  {
   "cell_type": "code",
   "execution_count": 14,
   "id": "13ce1263",
   "metadata": {},
   "outputs": [],
   "source": [
    "from geopy.geocoders import Nominatim\n",
    "#Nominatim utilise les données OpenStreetMap pour trouver des emplacements sur Terre par nom et adresse (géocodage)"
   ]
  },
  {
   "cell_type": "markdown",
   "id": "e59fd625",
   "metadata": {},
   "source": [
    "# 2 - création de la fonction de calcul des des latitudes et longitudes"
   ]
  },
  {
   "cell_type": "code",
   "execution_count": 15,
   "id": "1930117e",
   "metadata": {},
   "outputs": [],
   "source": [
    "def LocationName(location):\n",
    "    geolocator = Nominatim(user_agent=\"testing app\")\n",
    "    try:\n",
    "        location = geolocator.geocode(location)\n",
    "    except:\n",
    "        raise Exception(\"There was a problem with the geolocator function\")\n",
    "        #Si aucune expression n’est présente, raise propage la dernière exception \n",
    "        #active dans la portée courante. Si aucune exception n’est active dans \n",
    "        #la portée courante, une exception RuntimeError est levée, indiquant que c’est une erreur.\"\"\"\n",
    "        \n",
    "    return (location.latitude, location.longitude) \n"
   ]
  },
  {
   "cell_type": "markdown",
   "id": "cd0e7fa7",
   "metadata": {},
   "source": [
    "# 3 - tests et exemples"
   ]
  },
  {
   "cell_type": "code",
   "execution_count": 16,
   "id": "b1f11802",
   "metadata": {},
   "outputs": [],
   "source": [
    "#adrs= \"318 CHE DE ROUMAGOUA\"\n",
    "#city = \"LA CIOTAT\"\n",
    "#postal_code = \"13600\""
   ]
  },
  {
   "cell_type": "code",
   "execution_count": 17,
   "id": "f103babf",
   "metadata": {},
   "outputs": [],
   "source": [
    "#adresscomplette = adrs +' '+ city +' '+ postal_code"
   ]
  },
  {
   "cell_type": "code",
   "execution_count": 18,
   "id": "71fe7ccf",
   "metadata": {},
   "outputs": [],
   "source": [
    "#print(adresscomplette)"
   ]
  },
  {
   "cell_type": "code",
   "execution_count": 19,
   "id": "98862221",
   "metadata": {},
   "outputs": [],
   "source": [
    "#LocationName(adresscomplette)"
   ]
  },
  {
   "cell_type": "code",
   "execution_count": 20,
   "id": "2133acbf",
   "metadata": {},
   "outputs": [],
   "source": [
    "adress = [\"318 CHE DE ROUMAGOUA LA CIOTAT 13600\", \"19 RUE DES DAMES SAINTE SAVINE 10300\", \"22 RUE AMIRAL GUEPRATTE LE CONQUET 29217\"]"
   ]
  },
  {
   "cell_type": "code",
   "execution_count": 21,
   "id": "e0da2f80",
   "metadata": {},
   "outputs": [
    {
     "name": "stdout",
     "output_type": "stream",
     "text": [
      "(43.197642, 5.6078904)\n",
      "(48.2909051, 4.0457894)\n",
      "(48.3613399, -4.7667997)\n"
     ]
    }
   ],
   "source": [
    "for ad in adress : \n",
    "  print(LocationName(ad))"
   ]
  },
  {
   "cell_type": "markdown",
   "id": "7303a1d3",
   "metadata": {},
   "source": [
    "# 4 - connexion à la base de donnée dataengineer"
   ]
  },
  {
   "cell_type": "code",
   "execution_count": 22,
   "id": "b0d9c6e4",
   "metadata": {},
   "outputs": [],
   "source": [
    "#pip install mysql-connector"
   ]
  },
  {
   "cell_type": "raw",
   "id": "9ed84ede",
   "metadata": {},
   "source": [
    "Connexion à la base de données : \n",
    "Le module mysql.connector fournit la méthode connect qui permet de retourner un objet qui représente la connexion vers la base de données.\n",
    "fournir les paramètres host, user et password pour donner l’adresse du SGBDR, le login et le mot de passe de connexion.\n",
    "fournir également le paramètre database pour indiquer quelle base de données utiliser."
   ]
  },
  {
   "cell_type": "code",
   "execution_count": 23,
   "id": "5a5b7fea",
   "metadata": {},
   "outputs": [],
   "source": [
    "import mysql.connector "
   ]
  },
  {
   "cell_type": "code",
   "execution_count": 24,
   "id": "104004eb",
   "metadata": {},
   "outputs": [],
   "source": [
    "import mysql.connector\n",
    "\n",
    "config = {\n",
    "  'user': 'root',\n",
    "  'password': 'root',\n",
    "  'host': 'localhost',\n",
    "  'database': 'dataengineer',\n",
    "  'raise_on_warnings': True\n",
    "}\n",
    "\n",
    "cnx = mysql.connector.connect(**config)\n",
    "\n",
    "cnx.close()"
   ]
  },
  {
   "cell_type": "code",
   "execution_count": 25,
   "id": "5c5b1b5e",
   "metadata": {},
   "outputs": [],
   "source": [
    "request = \"select address_id, address, city, postal_code from address\"\n",
    "\n",
    "db = mysql.connector.connect(**config)\n",
    "#créer un curseur de base de données pour effectuer des opérations SQL\n",
    "c=db.cursor()\n",
    "c.execute(request)\n",
    "resultats = c.fetchall()\n"
   ]
  },
  {
   "cell_type": "markdown",
   "id": "3b173fcb",
   "metadata": {},
   "source": [
    "# 5 - récupération des colonnes de la table adresse sous une dataframe avec pandas"
   ]
  },
  {
   "cell_type": "code",
   "execution_count": 26,
   "id": "947eeef8",
   "metadata": {},
   "outputs": [],
   "source": [
    "import pandas as pd\n",
    "table_address= pd.DataFrame(resultats, columns = ['address_id', 'address', 'city', 'postal_code'])"
   ]
  },
  {
   "cell_type": "code",
   "execution_count": 27,
   "id": "dd227bfb",
   "metadata": {
    "scrolled": true
   },
   "outputs": [
    {
     "data": {
      "text/plain": [
       "<bound method NDFrame.head of      address_id                  address                  city postal_code\n",
       "0             1     318 CHE DE ROUMAGOUA             LA CIOTAT       13600\n",
       "1             2         19 RUE DES DAMES         SAINTE SAVINE       10300\n",
       "2             3  22 RUE AMIRAL GUEPRATTE            LE CONQUET       29217\n",
       "3             4          6 BD DES ETINES             LE COTEAU       42120\n",
       "4             5      35 AV DU 159EME RIA              BRIANCON        5100\n",
       "..          ...                      ...                   ...         ...\n",
       "557         601              20 RUE COLI             MONTREUIL       93100\n",
       "558         602         6 AV JEAN JAURES                 FEURS       42110\n",
       "559         603     1 RUE HENRI RENAUDIN  CHARLEVILLE-MEZIERES        8000\n",
       "560         604            2 RUE DE LYON      EPINAY SUR SEINE       93800\n",
       "561         605        4 RUE DENIS PAPIN                 BLAIN       44130\n",
       "\n",
       "[562 rows x 4 columns]>"
      ]
     },
     "execution_count": 27,
     "metadata": {},
     "output_type": "execute_result"
    }
   ],
   "source": [
    "table_address.head"
   ]
  },
  {
   "cell_type": "code",
   "execution_count": 28,
   "id": "9a3d3cf4",
   "metadata": {},
   "outputs": [],
   "source": [
    "#table_address.columns "
   ]
  },
  {
   "cell_type": "code",
   "execution_count": 29,
   "id": "ea886a96",
   "metadata": {},
   "outputs": [],
   "source": [
    "#table_address['postal_code']"
   ]
  },
  {
   "cell_type": "code",
   "execution_count": 30,
   "id": "1288b5aa",
   "metadata": {},
   "outputs": [],
   "source": [
    "#table_address.postal_code[1]"
   ]
  },
  {
   "cell_type": "code",
   "execution_count": 31,
   "id": "0da87bc0",
   "metadata": {},
   "outputs": [],
   "source": [
    "#table_address.index #: les noms des lignes (individus), par exemple Index(['a1', 'a2', 'a3'], dtype='object').\n"
   ]
  },
  {
   "cell_type": "code",
   "execution_count": 32,
   "id": "9af894d8",
   "metadata": {},
   "outputs": [],
   "source": [
    "#table_address.values #: pour récupérer le dataframe sous forme d'array numpy 2d.\n"
   ]
  },
  {
   "cell_type": "code",
   "execution_count": 33,
   "id": "e35a026b",
   "metadata": {},
   "outputs": [],
   "source": [
    "#table_address.c"
   ]
  },
  {
   "cell_type": "markdown",
   "id": "4d91088b",
   "metadata": {},
   "source": [
    "# 6 - geocodage"
   ]
  },
  {
   "cell_type": "code",
   "execution_count": 34,
   "id": "cb77350f",
   "metadata": {},
   "outputs": [],
   "source": [
    "# ajouter un zero au debut des codes postales erronés \n",
    "\n",
    "#import numpy as np\n",
    "\n",
    "#x=pd.array([])\n",
    "#for i in table_address['postal_code']:\n",
    "    # if len(str(i))<5:\n",
    "      #  i = str(0) + str(i)\n",
    "     #x = np.append(x, i)\n",
    "             \n",
    "#print(x)            "
   ]
  },
  {
   "cell_type": "code",
   "execution_count": 35,
   "id": "a795ec90",
   "metadata": {},
   "outputs": [],
   "source": [
    "adresscomplet = table_address['address']+ ' ' +table_address['city']+' '+table_address['postal_code']\n",
    "# concaténer toutes les colonnes de l'adresse"
   ]
  },
  {
   "cell_type": "code",
   "execution_count": 41,
   "id": "1ff7bd64",
   "metadata": {},
   "outputs": [
    {
     "name": "stdout",
     "output_type": "stream",
     "text": [
      "[43.197642, 48.2909051, 48.3613399, 46.021659, None, 50.2731305, 45.2400368, 48.9129683, None, 48.8805723, 45.8512237, 47.9156735, 48.039643, None, 46.4821093, 48.8237978, None, 48.7279135, 46.906282, 45.7954117, 48.9083291, None, 43.384355, 49.0712497, 45.7854618, 43.6126624, None, 50.528644, 48.938481, 44.8454692, 48.6969524, None, 43.5433277, None, 44.8409066, 48.6055754, 46.1706874, 44.4554633, 48.4250858, None, 47.0690713, 49.6307735, 43.0929508, 47.987857, 48.6825885, None, 46.7323014, 50.7325097, None, 48.8935367, 50.2551806, None, 48.3411404, 43.5671519, None, 45.7493005, 49.4899306, None, 47.7542686, None, 48.7573103, 48.800531, None, 50.6407385, 48.5127728, None, 49.4996997, 48.9145397, 46.1056369, 48.2802761, 45.0474496, 44.6595309, 49.1398295, 47.8000294, 48.9494889, 46.8695384, 44.0243447, 48.877107, 46.3610614, 48.823952, 48.3889829, 48.1095144, 48.9014987, 43.3870255, 48.5388826, None, None, 50.7388794, 48.950458, None, 50.630382, 49.558728, 48.869451, None, None, None, 43.1433704, 48.6152765, 48.9754957, 43.7134223, 43.3616785, 47.4896348, 43.4282597, 47.957453, 47.0698355, 43.0690474, 44.8214658, 45.6603026, 44.7827128, 48.3324927, 48.8918294, 47.3555196, 44.0551946, 45.1966176, 45.2089876, 43.4673362, None, 48.05495925, 48.8828484, 47.6796033, 47.2483725, 47.4457724, 48.4086191, 48.3208407, 48.9756683, 48.9031001, 48.1925265, 48.2778702, 49.8835858, 50.403275, 43.837875, 45.6918282, 48.5073798, None, 47.413648, 49.408733, 45.884429, 43.6819375, 43.7061858, 43.6262383, 46.1068512, None, 44.929575, 46.0485813, 43.7079493, 46.631576, None, 48.08290255, 43.1513574, 43.5312744, None, 48.8957845, 48.8428233, 48.0138798, 48.6815664, None, 44.2025825, 43.5329463, 43.7548424, 48.789496, 47.6486129, 48.5153754, 43.2735856, 48.9168662, None, 48.6861271, 49.5184777, 44.9191834, 46.6153451, None, 48.3991731, 48.837594, None, 48.6984757, 48.8656604, 45.8940873, 50.4029429, 45.7575667, None, 43.60992805, 48.8841758, 45.1725227, 46.9686284, 48.8642012, 43.1389575, 43.4609123, 49.8877587, 48.9497707, None, 45.028093, None, 49.1845294, 43.5833286, 47.4466585, None, 48.6513983, 45.7471906, None, 48.8946623, 44.070671, 47.4853064, 49.2531357, 47.3892711, 45.5850799, 47.8916092, 47.7896241, 46.1923705, 45.4534495, 48.5605476, 48.5252117, 43.5908783, 50.5222329, 49.2535557, 45.1554101, 47.2864687, 46.3646316, 45.179334, 43.4048935, None, 48.2631929, 47.735795, 48.8723846, 47.8751822, 48.905212, 43.5271955, None, 47.1326425, 50.822425, 48.8553041, 48.8512039, 49.4148349, 49.0268468, 47.481626, 46.9067993, 48.8170717, 48.9925019, 46.1617667, 50.6680681, 48.9054, 43.3689529, 48.8506701, 48.5160343, 46.62762, 48.6908372, None, 48.0198302, 43.0930723, 49.390199499999994, 14.8693034, 48.966935, 48.3714747, 46.1488545, 48.1261702, 48.878232, 43.1247887, 47.932507, 48.9445384, 47.9153926, 48.8455587, 43.6120416, 43.1824573, None, 47.6587777, 48.9024914, 46.8212183, 45.916876, 43.3853784, 46.6233464, 48.5107394, 44.8194435, 48.802041, 43.5638084, 45.4414669, None, 42.63409885, 45.1882798, 45.1859331, 47.9943732, 47.7696464, 47.6386272, 49.1506694, None, 48.9370715, None, 43.0416662, 49.1760606, 45.6729471, None, 43.5858157, 43.6401303, 48.9731151, 44.8632724, 45.0592225, 43.6329176, 48.83438, None, 45.5960406, None, 47.471056, 44.1875037, 49.1569244, 47.1961702, 43.4676237, 46.1585316, 48.5780226, 45.8224432, 49.2822655, 48.8494012, None, 48.508472, 45.6700303, 43.7872516, 48.790488, 47.118048, 49.8760248, None, 48.4732898, 43.4757197, 44.916011, 45.0052827, 47.3840322, 43.7064235, 48.8499967, 48.497814, 44.0152419, 48.789496, 48.8963684, 45.947649549999994, 48.8246701, 48.1129466, 45.3095622, 48.902897, 45.9430272, 49.4162748, 49.250244, 45.177757, 46.9852548, None, 45.444458, 45.4663044, 43.6022372, None, None, 43.5142028, None, 48.78445, 45.8479705, 44.7354546, 48.0733699, 44.7695909, 50.9577003, 50.3796608, 48.5536491, 43.5833286, 48.1113808, 44.0114731, 49.4807619, 46.2881493, 47.3505442, 50.7103975, 43.4583826, None, 48.5291254, 43.582554099999996, None, 44.040682, 47.7013906, 45.8431396, 46.901798, 50.6270468, 50.4636931, -20.8888291, 45.0541875, 48.1432691, 44.8363188, 43.2010205, None, 47.2127035, 15.871553, None, None, 46.0400625, 49.8515765, 43.7789136, 47.3552455, 43.1288399, 47.7627954, 45.6285323, 44.9154529, 44.8691191, None, 44.6391905, 47.6874804, 48.9207688, 48.6347942, None, 49.3187891, 47.2428873, -20.8915588, 47.9201976, 47.4771438, 46.0912409, 46.1720734, 47.3519835, 48.5414641, 43.7410595, None, 48.9567193, 46.5221625, None, None, 48.8696085, 50.717195, 45.2638636, 46.032341, 45.4227984, 48.4073336, 48.6581206, 48.8220989, 44.8525434, 45.2518506, 46.2455419, 49.5497217, 44.8506208, 45.7407531, 48.3905697, 49.4451936, 43.1440712, 44.9108601, None, 46.8019981, None, None, 47.2026104, None, 48.8790859, 50.6344584, 49.7388796, 47.5074539, None, 48.9260005, None, None, 48.0043551, 47.3173572, 43.4425096, 45.9490934, 50.2940093, 48.853884, 49.4569952, 48.5777908, 47.6599526, 49.0146662, 48.7062732, 45.4313458, None, 48.0473915, None, 46.4441969, 48.8683263, 45.909473, 44.8273409, 44.9670026, None, 48.988103, 48.5971921, 48.9287837, 45.748647000000005, 43.3061378, 45.1804873, 49.1447146, 44.7445107, 45.1616807, 48.908332, None, 51.0480813, 47.7066376, 43.6955911, 49.018465, 50.6615931, 45.1996626, 43.6757145, -20.8915588, 48.570238599999996, 47.6282807, 48.79837445, 48.9334108, 47.665483, None, 43.6738422, 44.7323316, None, 48.9838085, 43.6493227, 46.620092, None, 46.3610521, 48.1236077, 48.3408262, 45.7642514, 45.1546153, 47.1920058, 48.8721431, 45.436014, 49.2117832, None, 45.7722735, None, None, 46.0027075, 43.66730725, -21.3721432, 48.9436639, 43.5957482, None, None, 45.8055477, None, 43.3579739, 47.2985108, 43.598763, 48.0859702, 46.6141408, 44.8065779, 49.5029518, 43.3362935, 48.9380156, None, 48.794553, 43.650211, 48.0782534, 50.6197719, None, None, 49.2485455, 47.2511315, 44.8622853, 45.7783845, 44.78641405, 49.2494187, 45.9161667, 43.6018749, 49.9066312, None, 48.8189922, 47.2885442, 48.8753126, 50.6891637, 47.450451, 43.1099149, 46.1949743, 43.7064015, 48.6819702, 46.686809, 49.0363701, 50.3807865, 48.587718, 48.868459, 45.74356325, 49.7735463, 48.9538356, 47.4827659]\n",
      "[5.6078904, 4.0457894, -4.7667997, 4.0921204, None, 3.1388067, 5.8202665, 2.293793, None, 2.2581473, 4.5833115, -0.7415346, -1.7033545, None, -0.119785, 2.3025453, None, 1.3673784, 5.389655, 3.0881729, 2.2428327, None, 0.153153, 2.3093476, 3.1040681, 1.422247, None, 2.629561, 2.4606403, -0.5799998, 6.1898269, None, 6.457810913506666, None, -0.6127927, 2.4310508, -1.1557555, 4.3437187, 3.0124959, None, -0.8726905, 2.3049089, -0.0508652, 0.2112084, 2.1652649, None, 0.4281665, 2.7366174, None, 2.3755104, 3.9953061, None, 3.2640016, 7.0234355, None, 4.799906, 0.1417104, None, -3.3635225, None, 2.4102624, 2.368934, None, 3.0214347, -2.7620628, None, 0.1394552, 2.5327611, 3.4441524329225883, 2.6985017, 5.0449352, -1.1717679, -0.504876, 3.5651998, 2.6004877, 4.1758706, 5.0028788, 2.469486, 6.6748786, 2.497117, -4.4917393, -1.4052959, 6.0545593, 3.0990618, 2.1012666, None, None, 1.6171433, 2.136365, None, 3.0661672, 3.625107, 2.501604, None, None, None, 2.9705309, 3.3291437, 2.379989, 4.3130888, -1.7723515, 3.9088934, 6.7390582, -2.2926191, -2.0065847, 2.2090052, -0.5847976, 2.9431044, -1.1524603, -1.5353376, 2.289658, -1.8606832, 5.0513238, 5.7142298, 5.667002, 1.3261874, None, -1.7897752499999995, 2.1882933, -0.8685462, -1.5520757, 2.9356614, 2.7028631, 0.8044958, 2.2478693, 2.2704882, -0.5250747, 6.5699451, 2.3158795, 2.858752, 5.9825774, -0.30817, 1.3507173, None, 5.7131396, 2.8232871, 4.0848955, 4.6319198, 7.3090195, 5.2990198, 5.9663385, None, 2.4443246, 6.3433013, 7.3277528, 5.218665, None, 6.8851889829362385, 5.7031345, 6.4295725, None, 2.267368, 2.484884, 2.7313759, 2.341299, None, 0.6144402, 5.4162937, -0.9231801, 2.2596809, -2.7431077, 1.8438381, 6.5228266, 2.4412125, None, 2.3496404, 0.1261014, 4.8988549, 4.3358252, None, -4.6070747, 2.533867, None, 6.2065637, 2.7182902, 1.2808876, 2.9122755, 4.6930663, None, 1.4380106759619, 2.1869075, 5.7069845, -1.4438936, 2.3686572, 5.7505182, -1.3276438, 2.2881996, 2.2635997, None, 3.8733754, None, -0.3608034, 7.1083191, 6.880553383809527, None, 5.3537031, 4.7509995, None, 2.3743041, 5.232849, 6.9251601, 0.7096643, 0.6877355, 5.2815616, -2.8424141, 1.0672577, -0.8663612, 5.3794038, 3.2975494, -1.8444822, 3.5195866, 1.6285392, 3.9874616, 6.0801868, 5.0055826, 6.1491103, 0.7302215, 2.9753065, None, 2.6945336, -1.5969887, 1.9700131, -4.1120638, 2.145326, 5.4374088, None, -2.1157995, 1.594242, 2.3792241, 2.4002377, 2.0717232, 2.4698925, 0.8848307, 6.3503888, 1.9630161, 2.3804351, -1.1463528, 2.9732854, 2.244275, 1.1659043, 2.3196811, 3.7312121, 5.216735, 6.182437, None, 0.2080598, -0.0496532, 2.4144111334337355, -61.1150481, 2.3174233, 0.5740457, 6.4136715, 6.5360837, 2.7692791, 5.9939561, -3.6975605, 2.4666234, 0.3317255, 2.2396044, -1.128062, 3.0007101, None, -2.7486351, 2.3056049, -0.5060735, 5.5094, -1.6934703, -1.871048, 3.7225848, -0.6174031, 2.36189, 3.706815, 4.3903222, None, 2.754650902688171, 0.7085629, 0.7293338, 2.73478, -3.0178544, -2.9462353, 0.228362, None, 2.2322641, None, 1.6244816, -0.3031679, -0.9260528, None, 2.4415016, 1.396383, 3.1536059, -0.5902046, 4.8359547, 1.4371733, 2.257888, None, 5.8783847, None, -0.568506, 0.5676876, -0.3453846, -1.538286, -0.687772, -1.1533086, -4.0476273, -0.7761194, 2.4607687, 2.2109163, None, -2.7532527, 6.388277, 4.3078112, -3.1011855, 3.111018, 2.2897736, None, 2.5501449, 1.3328976, -0.2405948, -1.1981994, 0.6920755, 7.3269339, 2.4616058, -2.7485854, 3.1333302, 2.2596809, 2.2973776, 6.1222833293225785, 2.2619015, -1.6572144, 5.1872157, 2.315877, 6.1054949, 1.131905, 1.434126, 5.716056247368421, 3.157526, None, 4.3865127, 4.3639067, 3.8693011, None, None, 4.9910632, None, 2.233882436984021, 3.1767371, 4.5961468, -0.7580541, -0.5782262, 1.8453532, 3.0753412, -3.1322557, 7.1083191, -1.6994287, 4.4152399, 1.0477545, 4.3064565, 0.8416852, 2.2294195756578947, 3.6855473, None, 2.6546823, 7.0091018499068705, None, 4.8949487, -2.809655, 1.2817724, 6.355916, 3.1125504, 2.993181, 55.4473362, 3.8663101, 6.1491986, -0.687288, 5.6430599, None, -1.6143234, -61.5831594, None, None, -1.3982164, 3.279529, 4.2082974, 0.6978918, 5.9905445, -3.3802296, 5.2966143, -0.2429114, 1.0742443, None, 4.4118376, 2.6268685, 2.4365815, -2.0545919, None, -1.4504686, -2.2658678, 55.419022, 1.9452926, -0.5457477, 4.7560297, -1.0189829, 5.0424799, -4.6594049, 4.174352, None, 2.2976084, 6.0222223, None, None, 2.7607596, 3.152535, 1.7657871, 6.016700445969125, 4.3935127, -3.4286919, 1.6937384, 2.2707193, -0.6450272, 1.4610811, 3.283159, 0.1766758, -0.5740477, 3.1983002, -4.4919246, 2.0497855, 6.0006034, 0.9381164, None, 4.5691755, None, None, -1.7635186, None, 2.6958433, 3.0409587, 3.0523293, 2.7147859, None, 2.2631277, None, None, 3.7231823, 5.0232487, 3.6741748, 4.7105608, 2.7826781, 2.4512728, 1.1266905, -4.3116831, -2.758694, 1.15897, 2.3536592, 4.4105786, None, -1.5019417, None, -0.8693749, 2.4600918, 6.087949, -0.556837, 2.1949619, None, 1.800397, 6.1699464, 2.0380396, 4.672205670123839, -0.3668384, 5.7460653, 0.2565547, -1.0885991, 5.7321406, 2.157932, None, 2.3966754, 4.4349385, 7.2540553, 2.2443044, 3.0558233, 0.6973218, 7.207445729949423, 55.419022, 2.433651179025542, 6.8426179, 2.1352715271200067, 2.210564, -2.774555, None, 4.1284333, 4.5636088, None, 2.4523399, 3.8860182, 5.142962, None, 2.5729163, -1.6827904, 3.1691908, 3.048743, 5.7044465, 5.3873677, 2.0920198, 4.4197961, 1.1706261, None, 3.0930004, None, None, 6.116963154009378, 7.213954957645832, 55.6094386, 2.459145, 7.0993203, None, None, 3.1230315, None, 1.4767209, -2.2029391, 1.4202092, -1.6662653, -1.8588579, -0.5502494, 0.0984888, 3.2245175, 2.2361979, None, 2.360714, 4.0090373, -0.8054418, 3.0172022, None, None, 4.0302675, 1.5090998, -0.6079898, 4.8794239, -0.5624010540934369, 5.905897, 6.1160288, 3.8710829, 2.2676942, None, 2.5177112, 0.7357555, 2.1835603, 2.8815007, 5.589989, 3.1018616, -0.9636568, 7.2885294, 6.1974277, -1.453672, -0.3049697, 3.0714455, 2.239569, 2.468415, 4.226839162230233, 4.7088294, 2.2929192, -1.7472354]\n"
     ]
    }
   ],
   "source": [
    "lat = []\n",
    "long = []\n",
    "#adresscomplet = [\"318 CHE DE ROUMAGOUA LA CIOTAT 13600\", \n",
    "                 #\"35 AV DU 159EME RIA BRIANCON 5100\", \"22 RUE AMIRAL GUEPRATTE LE CONQUET 29217\"]\n",
    "geolocator = Nominatim(user_agent=\"testing app\")\n",
    "for address in adresscomplet:\n",
    "    g = geolocator.geocode(address, timeout=10)\n",
    "    if g is None:\n",
    "        lat.append(None)\n",
    "        long.append(None)\n",
    "    else:\n",
    "        latitude = g.latitude\n",
    "        longitude = g.longitude \n",
    "        lat.append(g.latitude)\n",
    "        long.append(g.longitude)\n",
    "    #print(address)\n",
    "print(lat)\n",
    "print(long)"
   ]
  },
  {
   "cell_type": "markdown",
   "id": "2d3ffc8e",
   "metadata": {},
   "source": [
    "# 7 - création des colonnes longitude et latitude"
   ]
  },
  {
   "cell_type": "code",
   "execution_count": 69,
   "id": "419ea0b1",
   "metadata": {},
   "outputs": [],
   "source": [
    "#request1 = \"ALTER TABLE address ADD latitude Varchar(10)\"\n",
    "#request2 = \"ALTER TABLE address ADD longitude Varchar(10)\"\n",
    "#db = mysql.connector.connect(**config)\n",
    "#créer un curseur de base de données pour effectuer des opérations SQL\n",
    "#c=db.cursor()\n",
    "#c.execute(request1)\n",
    "#c.execute(request2)\n",
    "#resultats = c.fetchall()"
   ]
  },
  {
   "cell_type": "markdown",
   "id": "5b348598",
   "metadata": {},
   "source": [
    "# 8 - inserer les logitudes et latitudes calculés dans la table address"
   ]
  },
  {
   "cell_type": "code",
   "execution_count": 67,
   "id": "8c8bbe18",
   "metadata": {},
   "outputs": [
    {
     "ename": "SyntaxError",
     "evalue": "EOL while scanning string literal (<ipython-input-67-14a9668e1ca7>, line 1)",
     "output_type": "error",
     "traceback": [
      "\u001b[0;36m  File \u001b[0;32m\"<ipython-input-67-14a9668e1ca7>\"\u001b[0;36m, line \u001b[0;32m1\u001b[0m\n\u001b[0;31m    request = \"INSERT INTO address (latitude) VALUES ('43.197642')\u001b[0m\n\u001b[0m                                                                  ^\u001b[0m\n\u001b[0;31mSyntaxError\u001b[0m\u001b[0;31m:\u001b[0m EOL while scanning string literal\n"
     ]
    }
   ],
   "source": [
    "request = \"INSERT INTO address (latitude) VALUES ('43.197642')\n",
    "#43.197642, 48.2909051, 48.3613399, 46.021659, None, 50.2731305, 45.2400368, 48.9129683, None, 48.8805723, 45.8512237, 47.9156735, 48.039643, None, 46.4821093, 48.8237978, None, 48.7279135, 46.906282, 45.7954117, 48.9083291, None, 43.384355, 49.0712497, 45.7854618, 43.6126624, None, 50.528644, 48.938481, 44.8454692, 48.6969524, None, 43.5433277, None, 44.8409066, 48.6055754, 46.1706874, 44.4554633, 48.4250858, None, 47.0690713, 49.6307735, 43.0929508, 47.987857, 48.6825885, None, 46.7323014, 50.7325097, None, 48.8935367, 50.2551806, None, 48.3411404, 43.5671519, None, 45.7493005, 49.4899306, None, 47.7542686, None, 48.7573103, 48.800531, None, 50.6407385, 48.5127728, None, 49.4996997, 48.9145397, 46.1056369, 48.2802761, 45.0474496, 44.6595309, 49.1398295, 47.8000294, 48.9494889, 46.8695384, 44.0243447, 48.877107, 46.3610614, 48.823952, 48.3889829, 48.1095144, 48.9014987, 43.3870255, 48.5388826, None, None, 50.7388794, 48.950458, None, 50.630382, 49.558728, 48.869451, None, None, None, 43.1433704, 48.6152765, 48.9754957, 43.7134223, 43.3616785, 47.4896348, 43.4282597, 47.957453, 47.0698355, 43.0690474, 44.8214658, 45.6603026, 44.7827128, 48.3324927, 48.8918294, 47.3555196, 44.0551946, 45.1966176, 45.2089876, 43.4673362, None, 48.05495925, 48.8828484, 47.6796033, 47.2483725, 47.4457724, 48.4086191, 48.3208407, 48.9756683, 48.9031001, 48.1925265, 48.2778702, 49.8835858, 50.403275, 43.837875, 45.6918282, 48.5073798, None, 47.413648, 49.408733, 45.884429, 43.6819375, 43.7061858, 43.6262383, 46.1068512, None, 44.929575, 46.0485813, 43.7079493, 46.631576, None, 48.08290255, 43.1513574, 43.5312744, None, 48.8957845, 48.8428233, 48.0138798, 48.6815664, None, 44.2025825, 43.5329463, 43.7548424, 48.789496, 47.6486129, 48.5153754, 43.2735856, 48.9168662, None, 48.6861271, 49.5184777, 44.9191834, 46.6153451, None, 48.3991731, 48.837594, None, 48.6984757, 48.8656604, 45.8940873, 50.4029429, 45.7575667, None, 43.60992805, 48.8841758, 45.1725227, 46.9686284, 48.8642012, 43.1389575, 43.4609123, 49.8877587, 48.9497707, None, 45.028093, None, 49.1845294, 43.5833286, 47.4466585, None, 48.6513983, 45.7471906, None, 48.8946623, 44.070671, 47.4853064, 49.2531357, 47.3892711, 45.5850799, 47.8916092, 47.7896241, 46.1923705, 45.4534495, 48.5605476, 48.5252117, 43.5908783, 50.5222329, 49.2535557, 45.1554101, 47.2864687, 46.3646316, 45.179334, 43.4048935, None, 48.2631929, 47.735795, 48.8723846, 47.8751822, 48.905212, 43.5271955, None, 47.1326425, 50.822425, 48.8553041, 48.8512039, 49.4148349, 49.0268468, 47.481626, 46.9067993, 48.8170717, 48.9925019, 46.1617667, 50.6680681, 48.9054, 43.3689529, 48.8506701, 48.5160343, 46.62762, 48.6908372, None, 48.0198302, 43.0930723, 49.390199499999994, 14.8693034, 48.966935, 48.3714747, 46.1488545, 48.1261702, 48.878232, 43.1247887, 47.932507, 48.9445384, 47.9153926, 48.8455587, 43.6120416, 43.1824573, None, 47.6587777, 48.9024914, 46.8212183, 45.916876, 43.3853784, 46.6233464, 48.5107394, 44.8194435, 48.802041, 43.5638084, 45.4414669, None, 42.63409885, 45.1882798, 45.1859331, 47.9943732, 47.7696464, 47.6386272, 49.1506694, None, 48.9370715, None, 43.0416662, 49.1760606, 45.6729471, None, 43.5858157, 43.6401303, 48.9731151, 44.8632724, 45.0592225, 43.6329176, 48.83438, None, 45.5960406, None, 47.471056, 44.1875037, 49.1569244, 47.1961702, 43.4676237, 46.1585316, 48.5780226, 45.8224432, 49.2822655, 48.8494012, None, 48.508472, 45.6700303, 43.7872516, 48.790488, 47.118048, 49.8760248, None, 48.4732898, 43.4757197, 44.916011, 45.0052827, 47.3840322, 43.7064235, 48.8499967, 48.497814, 44.0152419, 48.789496, 48.8963684, 45.947649549999994, 48.8246701, 48.1129466, 45.3095622, 48.902897, 45.9430272, 49.4162748, 49.250244, 45.177757, 46.9852548, None, 45.444458, 45.4663044, 43.6022372, None, None, 43.5142028, None, 48.78445, 45.8479705, 44.7354546, 48.0733699, 44.7695909, 50.9577003, 50.3796608, 48.5536491, 43.5833286, 48.1113808, 44.0114731, 49.4807619, 46.2881493, 47.3505442, 50.7103975, 43.4583826, None, 48.5291254, 43.582554099999996, None, 44.040682, 47.7013906, 45.8431396, 46.901798, 50.6270468, 50.4636931, -20.8888291, 45.0541875, 48.1432691, 44.8363188, 43.2010205, None, 47.2127035, 15.871553, None, None, 46.0400625, 49.8515765, 43.7789136, 47.3552455, 43.1288399, 47.7627954, 45.6285323, 44.9154529, 44.8691191, None, 44.6391905, 47.6874804, 48.9207688, 48.6347942, None, 49.3187891, 47.2428873, -20.8915588, 47.9201976, 47.4771438, 46.0912409, 46.1720734, 47.3519835, 48.5414641, 43.7410595, None, 48.9567193, 46.5221625, None, None, 48.8696085, 50.717195, 45.2638636, 46.032341, 45.4227984, 48.4073336, 48.6581206, 48.8220989, 44.8525434, 45.2518506, 46.2455419, 49.5497217, 44.8506208, 45.7407531, 48.3905697, 49.4451936, 43.1440712, 44.9108601, None, 46.8019981, None, None, 47.2026104, None, 48.8790859, 50.6344584, 49.7388796, 47.5074539, None, 48.9260005, None, None, 48.0043551, 47.3173572, 43.4425096, 45.9490934, 50.2940093, 48.853884, 49.4569952, 48.5777908, 47.6599526, 49.0146662, 48.7062732, 45.4313458, None, 48.0473915, None, 46.4441969, 48.8683263, 45.909473, 44.8273409, 44.9670026, None, 48.988103, 48.5971921, 48.9287837, 45.748647000000005, 43.3061378, 45.1804873, 49.1447146, 44.7445107, 45.1616807, 48.908332, None, 51.0480813, 47.7066376, 43.6955911, 49.018465, 50.6615931, 45.1996626, 43.6757145, -20.8915588, 48.570238599999996, 47.6282807, 48.79837445, 48.9334108, 47.665483, None, 43.6738422, 44.7323316, None, 48.9838085, 43.6493227, 46.620092, None, 46.3610521, 48.1236077, 48.3408262, 45.7642514, 45.1546153, 47.1920058, 48.8721431, 45.436014, 49.2117832, None, 45.7722735, None, None, 46.0027075, 43.66730725, -21.3721432, 48.9436639, 43.5957482, None, None, 45.8055477, None, 43.3579739, 47.2985108, 43.598763, 48.0859702, 46.6141408, 44.8065779, 49.5029518, 43.3362935, 48.9380156, None, 48.794553, 43.650211, 48.0782534, 50.6197719, None, None, 49.2485455, 47.2511315, 44.8622853, 45.7783845, 44.78641405, 49.2494187, 45.9161667, 43.6018749, 49.9066312, None, 48.8189922, 47.2885442, 48.8753126, 50.6891637, 47.450451, 43.1099149, 46.1949743, 43.7064015, 48.6819702, 46.686809, 49.0363701, 50.3807865, 48.587718, 48.868459, 45.74356325, 49.7735463, 48.9538356, 47.4827659)\"\n",
    "\n",
    "db = mysql.connector.connect(**config)\n",
    "#créer un curseur de base de données pour effectuer des opérations SQL\n",
    "c=db.cursor()\n",
    "c.execute(request)\n",
    "resultats = c.fetchall()\n",
    "\n"
   ]
  },
  {
   "cell_type": "code",
   "execution_count": 64,
   "id": "c9f7e595",
   "metadata": {},
   "outputs": [
    {
     "ename": "ProgrammingError",
     "evalue": "1064 (42000): You have an error in your SQL syntax; check the manual that corresponds to your MySQL server version for the right syntax to use near 'DECLARE\n   tab_valeur  VARCHAR:= VARCHAR (100020709, 100026584, 100035885, 10005' at line 1",
     "output_type": "error",
     "traceback": [
      "\u001b[0;31m---------------------------------------------------------------------------\u001b[0m",
      "\u001b[0;31mProgrammingError\u001b[0m                          Traceback (most recent call last)",
      "\u001b[0;32m<ipython-input-64-5ebdf5773520>\u001b[0m in \u001b[0;36m<module>\u001b[0;34m\u001b[0m\n\u001b[1;32m     12\u001b[0m \u001b[0;31m#créer un curseur de base de données pour effectuer des opérations SQL\u001b[0m\u001b[0;34m\u001b[0m\u001b[0;34m\u001b[0m\u001b[0;34m\u001b[0m\u001b[0m\n\u001b[1;32m     13\u001b[0m \u001b[0mc\u001b[0m\u001b[0;34m=\u001b[0m\u001b[0mdb\u001b[0m\u001b[0;34m.\u001b[0m\u001b[0mcursor\u001b[0m\u001b[0;34m(\u001b[0m\u001b[0;34m)\u001b[0m\u001b[0;34m\u001b[0m\u001b[0;34m\u001b[0m\u001b[0m\n\u001b[0;32m---> 14\u001b[0;31m \u001b[0mc\u001b[0m\u001b[0;34m.\u001b[0m\u001b[0mexecute\u001b[0m\u001b[0;34m(\u001b[0m\u001b[0mrequest\u001b[0m\u001b[0;34m)\u001b[0m\u001b[0;34m\u001b[0m\u001b[0;34m\u001b[0m\u001b[0m\n\u001b[0m\u001b[1;32m     15\u001b[0m \u001b[0mresultats\u001b[0m \u001b[0;34m=\u001b[0m \u001b[0mc\u001b[0m\u001b[0;34m.\u001b[0m\u001b[0mfetchall\u001b[0m\u001b[0;34m(\u001b[0m\u001b[0;34m)\u001b[0m\u001b[0;34m\u001b[0m\u001b[0;34m\u001b[0m\u001b[0m\n",
      "\u001b[0;32m~/opt/anaconda3/lib/python3.8/site-packages/mysql/connector/cursor.py\u001b[0m in \u001b[0;36mexecute\u001b[0;34m(self, operation, params, multi)\u001b[0m\n\u001b[1;32m    549\u001b[0m         \u001b[0;32melse\u001b[0m\u001b[0;34m:\u001b[0m\u001b[0;34m\u001b[0m\u001b[0;34m\u001b[0m\u001b[0m\n\u001b[1;32m    550\u001b[0m             \u001b[0;32mtry\u001b[0m\u001b[0;34m:\u001b[0m\u001b[0;34m\u001b[0m\u001b[0;34m\u001b[0m\u001b[0m\n\u001b[0;32m--> 551\u001b[0;31m                 \u001b[0mself\u001b[0m\u001b[0;34m.\u001b[0m\u001b[0m_handle_result\u001b[0m\u001b[0;34m(\u001b[0m\u001b[0mself\u001b[0m\u001b[0;34m.\u001b[0m\u001b[0m_connection\u001b[0m\u001b[0;34m.\u001b[0m\u001b[0mcmd_query\u001b[0m\u001b[0;34m(\u001b[0m\u001b[0mstmt\u001b[0m\u001b[0;34m)\u001b[0m\u001b[0;34m)\u001b[0m\u001b[0;34m\u001b[0m\u001b[0;34m\u001b[0m\u001b[0m\n\u001b[0m\u001b[1;32m    552\u001b[0m             \u001b[0;32mexcept\u001b[0m \u001b[0merrors\u001b[0m\u001b[0;34m.\u001b[0m\u001b[0mInterfaceError\u001b[0m\u001b[0;34m:\u001b[0m\u001b[0;34m\u001b[0m\u001b[0;34m\u001b[0m\u001b[0m\n\u001b[1;32m    553\u001b[0m                 \u001b[0;32mif\u001b[0m \u001b[0mself\u001b[0m\u001b[0;34m.\u001b[0m\u001b[0m_connection\u001b[0m\u001b[0;34m.\u001b[0m\u001b[0m_have_next_result\u001b[0m\u001b[0;34m:\u001b[0m  \u001b[0;31m# pylint: disable=W0212\u001b[0m\u001b[0;34m\u001b[0m\u001b[0;34m\u001b[0m\u001b[0m\n",
      "\u001b[0;32m~/opt/anaconda3/lib/python3.8/site-packages/mysql/connector/connection.py\u001b[0m in \u001b[0;36mcmd_query\u001b[0;34m(self, query, raw, buffered, raw_as_string)\u001b[0m\n\u001b[1;32m    488\u001b[0m         \u001b[0;32mif\u001b[0m \u001b[0;32mnot\u001b[0m \u001b[0misinstance\u001b[0m\u001b[0;34m(\u001b[0m\u001b[0mquery\u001b[0m\u001b[0;34m,\u001b[0m \u001b[0mbytes\u001b[0m\u001b[0;34m)\u001b[0m\u001b[0;34m:\u001b[0m\u001b[0;34m\u001b[0m\u001b[0;34m\u001b[0m\u001b[0m\n\u001b[1;32m    489\u001b[0m             \u001b[0mquery\u001b[0m \u001b[0;34m=\u001b[0m \u001b[0mquery\u001b[0m\u001b[0;34m.\u001b[0m\u001b[0mencode\u001b[0m\u001b[0;34m(\u001b[0m\u001b[0;34m'utf-8'\u001b[0m\u001b[0;34m)\u001b[0m\u001b[0;34m\u001b[0m\u001b[0;34m\u001b[0m\u001b[0m\n\u001b[0;32m--> 490\u001b[0;31m         \u001b[0mresult\u001b[0m \u001b[0;34m=\u001b[0m \u001b[0mself\u001b[0m\u001b[0;34m.\u001b[0m\u001b[0m_handle_result\u001b[0m\u001b[0;34m(\u001b[0m\u001b[0mself\u001b[0m\u001b[0;34m.\u001b[0m\u001b[0m_send_cmd\u001b[0m\u001b[0;34m(\u001b[0m\u001b[0mServerCmd\u001b[0m\u001b[0;34m.\u001b[0m\u001b[0mQUERY\u001b[0m\u001b[0;34m,\u001b[0m \u001b[0mquery\u001b[0m\u001b[0;34m)\u001b[0m\u001b[0;34m)\u001b[0m\u001b[0;34m\u001b[0m\u001b[0;34m\u001b[0m\u001b[0m\n\u001b[0m\u001b[1;32m    491\u001b[0m \u001b[0;34m\u001b[0m\u001b[0m\n\u001b[1;32m    492\u001b[0m         \u001b[0;32mif\u001b[0m \u001b[0mself\u001b[0m\u001b[0;34m.\u001b[0m\u001b[0m_have_next_result\u001b[0m\u001b[0;34m:\u001b[0m\u001b[0;34m\u001b[0m\u001b[0;34m\u001b[0m\u001b[0m\n",
      "\u001b[0;32m~/opt/anaconda3/lib/python3.8/site-packages/mysql/connector/connection.py\u001b[0m in \u001b[0;36m_handle_result\u001b[0;34m(self, packet)\u001b[0m\n\u001b[1;32m    393\u001b[0m             \u001b[0;32mreturn\u001b[0m \u001b[0mself\u001b[0m\u001b[0;34m.\u001b[0m\u001b[0m_handle_eof\u001b[0m\u001b[0;34m(\u001b[0m\u001b[0mpacket\u001b[0m\u001b[0;34m)\u001b[0m\u001b[0;34m\u001b[0m\u001b[0;34m\u001b[0m\u001b[0m\n\u001b[1;32m    394\u001b[0m         \u001b[0;32melif\u001b[0m \u001b[0mpacket\u001b[0m\u001b[0;34m[\u001b[0m\u001b[0;36m4\u001b[0m\u001b[0;34m]\u001b[0m \u001b[0;34m==\u001b[0m \u001b[0;36m255\u001b[0m\u001b[0;34m:\u001b[0m\u001b[0;34m\u001b[0m\u001b[0;34m\u001b[0m\u001b[0m\n\u001b[0;32m--> 395\u001b[0;31m             \u001b[0;32mraise\u001b[0m \u001b[0merrors\u001b[0m\u001b[0;34m.\u001b[0m\u001b[0mget_exception\u001b[0m\u001b[0;34m(\u001b[0m\u001b[0mpacket\u001b[0m\u001b[0;34m)\u001b[0m\u001b[0;34m\u001b[0m\u001b[0;34m\u001b[0m\u001b[0m\n\u001b[0m\u001b[1;32m    396\u001b[0m \u001b[0;34m\u001b[0m\u001b[0m\n\u001b[1;32m    397\u001b[0m         \u001b[0;31m# We have a text result set\u001b[0m\u001b[0;34m\u001b[0m\u001b[0;34m\u001b[0m\u001b[0;34m\u001b[0m\u001b[0m\n",
      "\u001b[0;31mProgrammingError\u001b[0m: 1064 (42000): You have an error in your SQL syntax; check the manual that corresponds to your MySQL server version for the right syntax to use near 'DECLARE\n   tab_valeur  VARCHAR:= VARCHAR (100020709, 100026584, 100035885, 10005' at line 1"
     ]
    }
   ],
   "source": [
    "request = \"\"\"DECLARE\n",
    "   tab_valeur  VARCHAR:= VARCHAR (100020709, 100026584, 100035885, 100054651);\n",
    "BEGIN\n",
    "   FOR i IN range(0:10)\n",
    "   LOOP\n",
    "      INSERT INTO ma_table (colonne1) VALUES (tab_valeur (i));\n",
    "   END LOOP;\n",
    "   COMMIT;\n",
    "END;\"\"\"\n",
    "\n",
    "db = mysql.connector.connect(**config)\n",
    "#créer un curseur de base de données pour effectuer des opérations SQL\n",
    "c=db.cursor()\n",
    "c.execute(request)\n",
    "resultats = c.fetchall()"
   ]
  },
  {
   "cell_type": "markdown",
   "id": "c202398f",
   "metadata": {},
   "source": [
    "# 9 - requete 4 du projet : le client qui a le plus de locations"
   ]
  },
  {
   "cell_type": "code",
   "execution_count": 46,
   "id": "aa2d1e05",
   "metadata": {},
   "outputs": [
    {
     "name": "stdout",
     "output_type": "stream",
     "text": [
      "[(148, 'ELEANOR', 'HUNT', '17 IMP DES JARDINS', 'VALLEIRY', '74520', 46)]\n"
     ]
    }
   ],
   "source": [
    "request = \"SELECT rental.customer_id, customer.first_name, customer.last_name, address.address,address.city, address.postal_code, COUNT(*) FROM `rental` join `address` join `customer` WHERE customer.address_id =address.address_id and rental.customer_id = customer.customer_id  GROUP BY customer_id  HAVING COUNT(*)=(SELECT  MAX(nb)  FROM (SELECT rental.customer_id, customer.first_name, customer.last_name, address.address,address.city,       address.postal_code,  COUNT(*)  nb FROM `rental` join `address` join `customer` WHERE customer.address_id =address.address_id and rental.customer_id = customer.customer_id GROUP BY rental.customer_id) as maxxx);\"\n",
    "\n",
    "db = mysql.connector.connect(**config)\n",
    "#créer un curseur de base de données pour effectuer des opérations SQL\n",
    "c=db.cursor()\n",
    "c.execute(request)\n",
    "resultats = c.fetchall()\n",
    "\n",
    "print(resultats)"
   ]
  },
  {
   "cell_type": "code",
   "execution_count": null,
   "id": "3f11915a",
   "metadata": {},
   "outputs": [],
   "source": []
  }
 ],
 "metadata": {
  "kernelspec": {
   "display_name": "Python 3",
   "language": "python",
   "name": "python3"
  },
  "language_info": {
   "codemirror_mode": {
    "name": "ipython",
    "version": 3
   },
   "file_extension": ".py",
   "mimetype": "text/x-python",
   "name": "python",
   "nbconvert_exporter": "python",
   "pygments_lexer": "ipython3",
   "version": "3.8.8"
  }
 },
 "nbformat": 4,
 "nbformat_minor": 5
}
