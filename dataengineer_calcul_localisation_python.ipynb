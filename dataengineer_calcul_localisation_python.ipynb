{
 "cells": [
  {
   "cell_type": "markdown",
   "id": "7137ebed",
   "metadata": {},
   "source": [
    "# 1 - importation packages"
   ]
  },
  {
   "cell_type": "code",
   "execution_count": 4,
   "id": "857764fa",
   "metadata": {},
   "outputs": [],
   "source": [
    "import geopy\n",
    "#on installe la librairie GeoPy qui permet d’utiliser un certain nombre de géocodeurs différents.\n",
    "#Ici, on utilise Nominatim.\n",
    "import csv"
   ]
  },
  {
   "cell_type": "code",
   "execution_count": 5,
   "id": "13ce1263",
   "metadata": {},
   "outputs": [],
   "source": [
    "from geopy.geocoders import Nominatim\n",
    "#Nominatim utilise les données OpenStreetMap pour trouver des emplacements sur Terre par nom et adresse (géocodage)"
   ]
  },
  {
   "cell_type": "markdown",
   "id": "e59fd625",
   "metadata": {},
   "source": [
    "# 2 - création de la fonction de calcul des des latitudes et longitudes"
   ]
  },
  {
   "cell_type": "code",
   "execution_count": 80,
   "id": "1930117e",
   "metadata": {},
   "outputs": [],
   "source": [
    "def LocationName(location):\n",
    "    geolocator = Nominatim(user_agent=\"testing app\")\n",
    "    try:\n",
    "        location = geolocator.geocode(location)\n",
    "        location = geolocator.geocode(\"___\")\n",
    "        repr(location)\n",
    "    except:\n",
    "        raise Exception(\"There was a problem with the geolocator function\")\n",
    "        #Si aucune expression n’est présente, raise propage la dernière exception \n",
    "        #active dans la portée courante. Si aucune exception n’est active dans \n",
    "        #la portée courante, une exception RuntimeError est levée, indiquant que c’est une erreur.\"\"\"\n",
    "        \n",
    "    return (location.latitude, location.longitude) \n"
   ]
  },
  {
   "cell_type": "code",
   "execution_count": 81,
   "id": "1d4391b0",
   "metadata": {},
   "outputs": [
    {
     "ename": "AttributeError",
     "evalue": "'NoneType' object has no attribute 'latitude'",
     "output_type": "error",
     "traceback": [
      "\u001b[0;31m---------------------------------------------------------------------------\u001b[0m",
      "\u001b[0;31mAttributeError\u001b[0m                            Traceback (most recent call last)",
      "\u001b[0;32m<ipython-input-81-ca3a3c876e6c>\u001b[0m in \u001b[0;36m<module>\u001b[0;34m\u001b[0m\n\u001b[0;32m----> 1\u001b[0;31m \u001b[0mLocationName\u001b[0m\u001b[0;34m(\u001b[0m\u001b[0;34m\"35 AV DU 159EME RIA BRIANCON 5100 \"\u001b[0m\u001b[0;34m)\u001b[0m\u001b[0;34m\u001b[0m\u001b[0;34m\u001b[0m\u001b[0m\n\u001b[0m\u001b[1;32m      2\u001b[0m \u001b[0mrepr\u001b[0m\u001b[0;34m(\u001b[0m\u001b[0mlocation\u001b[0m\u001b[0;34m)\u001b[0m\u001b[0;34m\u001b[0m\u001b[0;34m\u001b[0m\u001b[0m\n",
      "\u001b[0;32m<ipython-input-80-698570aca4c8>\u001b[0m in \u001b[0;36mLocationName\u001b[0;34m(location)\u001b[0m\n\u001b[1;32m      6\u001b[0m         \u001b[0mrepr\u001b[0m\u001b[0;34m(\u001b[0m\u001b[0mlocation\u001b[0m\u001b[0;34m)\u001b[0m\u001b[0;34m\u001b[0m\u001b[0;34m\u001b[0m\u001b[0m\n\u001b[1;32m      7\u001b[0m \u001b[0;34m\u001b[0m\u001b[0m\n\u001b[0;32m----> 8\u001b[0;31m     \u001b[0;32mreturn\u001b[0m \u001b[0;34m(\u001b[0m\u001b[0mlocation\u001b[0m\u001b[0;34m.\u001b[0m\u001b[0mlatitude\u001b[0m\u001b[0;34m,\u001b[0m \u001b[0mlocation\u001b[0m\u001b[0;34m.\u001b[0m\u001b[0mlongitude\u001b[0m\u001b[0;34m)\u001b[0m\u001b[0;34m\u001b[0m\u001b[0;34m\u001b[0m\u001b[0m\n\u001b[0m",
      "\u001b[0;31mAttributeError\u001b[0m: 'NoneType' object has no attribute 'latitude'"
     ]
    }
   ],
   "source": [
    "LocationName(\"35 AV DU 159EME RIA BRIANCON 5100 \")\n",
    "repr(location)"
   ]
  },
  {
   "cell_type": "code",
   "execution_count": null,
   "id": "6b8b4a20",
   "metadata": {},
   "outputs": [],
   "source": [
    "lat = []\n",
    "long = []\n",
    "for row in io['ADDRESS']:\n",
    "    addr = geolocator.geocode(row, timeout=10)\n",
    "    if addr is None:\n",
    "        lat.append(None)\n",
    "        long.append(None)\n",
    "    else:\n",
    "        latitude = ad.latitude\n",
    "        longitude = ad.longitude  \n",
    "    \n",
    "    lat.append(latitude)\n",
    "    long.append(longitude)\n",
    "\n",
    "io['latitude'] = lat\n",
    "io['longitude'] = long"
   ]
  },
  {
   "cell_type": "code",
   "execution_count": 96,
   "id": "b4ed5067",
   "metadata": {},
   "outputs": [
    {
     "name": "stdout",
     "output_type": "stream",
     "text": [
      "[] []\n",
      "[43.197642] [5.6078904]\n",
      "[43.197642, 48.2909051] [5.6078904, 4.0457894]\n",
      "[43.197642, 48.2909051, 48.3613399] [5.6078904, 4.0457894, -4.7667997]\n",
      "[43.197642, 48.2909051, 48.3613399, 46.021659, None] [5.6078904, 4.0457894, -4.7667997, 4.0921204, None]\n"
     ]
    },
    {
     "ename": "AttributeError",
     "evalue": "'NoneType' object has no attribute 'latitude'",
     "output_type": "error",
     "traceback": [
      "\u001b[0;31m---------------------------------------------------------------------------\u001b[0m",
      "\u001b[0;31mAttributeError\u001b[0m                            Traceback (most recent call last)",
      "\u001b[0;32m<ipython-input-96-7f98b435ed86>\u001b[0m in \u001b[0;36m<module>\u001b[0;34m\u001b[0m\n\u001b[1;32m     11\u001b[0m     \u001b[0;31m#print(address)\u001b[0m\u001b[0;34m\u001b[0m\u001b[0;34m\u001b[0m\u001b[0;34m\u001b[0m\u001b[0m\n\u001b[1;32m     12\u001b[0m     \u001b[0mprint\u001b[0m\u001b[0;34m(\u001b[0m\u001b[0mlat\u001b[0m\u001b[0;34m,\u001b[0m\u001b[0mlong\u001b[0m \u001b[0;34m)\u001b[0m\u001b[0;34m\u001b[0m\u001b[0;34m\u001b[0m\u001b[0m\n\u001b[0;32m---> 13\u001b[0;31m     \u001b[0mlat\u001b[0m\u001b[0;34m.\u001b[0m\u001b[0mappend\u001b[0m\u001b[0;34m(\u001b[0m\u001b[0mg\u001b[0m\u001b[0;34m.\u001b[0m\u001b[0mlatitude\u001b[0m\u001b[0;34m)\u001b[0m\u001b[0;34m\u001b[0m\u001b[0;34m\u001b[0m\u001b[0m\n\u001b[0m\u001b[1;32m     14\u001b[0m     \u001b[0mlong\u001b[0m\u001b[0;34m.\u001b[0m\u001b[0mappend\u001b[0m\u001b[0;34m(\u001b[0m\u001b[0mg\u001b[0m\u001b[0;34m.\u001b[0m\u001b[0mlongitude\u001b[0m\u001b[0;34m)\u001b[0m\u001b[0;34m\u001b[0m\u001b[0;34m\u001b[0m\u001b[0m\n\u001b[1;32m     15\u001b[0m  \u001b[0;31m# If give a wrong adress\u001b[0m\u001b[0;34m\u001b[0m\u001b[0;34m\u001b[0m\u001b[0;34m\u001b[0m\u001b[0m\n",
      "\u001b[0;31mAttributeError\u001b[0m: 'NoneType' object has no attribute 'latitude'"
     ]
    }
   ],
   "source": [
    "\n",
    "lat = []\n",
    "long = []\n",
    "for address in adresscomplet:\n",
    "    g = geolocator.geocode(address)\n",
    "    if g is None:\n",
    "        lat.append(None)\n",
    "        long.append(None)\n",
    "    else:\n",
    "        latitude = g.latitude\n",
    "        longitude = g.longitude \n",
    "    #print(address)\n",
    "    print(lat,long )\n",
    "    lat.append(g.latitude)\n",
    "    long.append(g.longitude)\n",
    " # If give a wrong adress\n",
    "location = geolocator.geocode(\"___\")\n",
    "repr(location)\n",
    "print(lat,long )\n"
   ]
  },
  {
   "cell_type": "markdown",
   "id": "cd0e7fa7",
   "metadata": {},
   "source": [
    "# 3 - tests et exemples"
   ]
  },
  {
   "cell_type": "code",
   "execution_count": 7,
   "id": "88386f54",
   "metadata": {},
   "outputs": [],
   "source": [
    "y=\"318 CHE DE ROUMAGOUA LA CIOTAT 1360 FR\""
   ]
  },
  {
   "cell_type": "code",
   "execution_count": 8,
   "id": "34a97f80",
   "metadata": {},
   "outputs": [
    {
     "data": {
      "text/plain": [
       "False"
      ]
     },
     "execution_count": 8,
     "metadata": {},
     "output_type": "execute_result"
    }
   ],
   "source": [
    "hasattr(y, 'longitude')"
   ]
  },
  {
   "cell_type": "code",
   "execution_count": 10,
   "id": "b1f11802",
   "metadata": {},
   "outputs": [],
   "source": [
    "#adrs= \"318 CHE DE ROUMAGOUA\"\n",
    "#city = \"LA CIOTAT\"\n",
    "#postal_code = \"13600\""
   ]
  },
  {
   "cell_type": "code",
   "execution_count": 11,
   "id": "f103babf",
   "metadata": {},
   "outputs": [],
   "source": [
    "#adresscomplette = adrs +' '+ city +' '+ postal_code"
   ]
  },
  {
   "cell_type": "code",
   "execution_count": 12,
   "id": "71fe7ccf",
   "metadata": {},
   "outputs": [],
   "source": [
    "#print(adresscomplette)"
   ]
  },
  {
   "cell_type": "code",
   "execution_count": 13,
   "id": "98862221",
   "metadata": {},
   "outputs": [],
   "source": [
    "#LocationName(adresscomplette)"
   ]
  },
  {
   "cell_type": "code",
   "execution_count": 14,
   "id": "2133acbf",
   "metadata": {},
   "outputs": [],
   "source": [
    "adress = [\"318 CHE DE ROUMAGOUA LA CIOTAT 13600\", \"19 RUE DES DAMES SAINTE SAVINE 10300\", \"22 RUE AMIRAL GUEPRATTE LE CONQUET 29217\"]"
   ]
  },
  {
   "cell_type": "code",
   "execution_count": 15,
   "id": "e0da2f80",
   "metadata": {},
   "outputs": [
    {
     "name": "stdout",
     "output_type": "stream",
     "text": [
      "(43.197642, 5.6078904)\n",
      "(48.2909051, 4.0457894)\n",
      "(48.3613399, -4.7667997)\n"
     ]
    }
   ],
   "source": [
    "for ad in adress : \n",
    "  print(LocationName(ad))"
   ]
  },
  {
   "cell_type": "markdown",
   "id": "7303a1d3",
   "metadata": {},
   "source": [
    "# 4 - connexion à la base de donnée dataengineer"
   ]
  },
  {
   "cell_type": "code",
   "execution_count": 16,
   "id": "b0d9c6e4",
   "metadata": {},
   "outputs": [],
   "source": [
    "#pip install mysql-connector"
   ]
  },
  {
   "cell_type": "raw",
   "id": "9ed84ede",
   "metadata": {},
   "source": [
    "Connexion à la base de données : \n",
    "Le module mysql.connector fournit la méthode connect qui permet de retourner un objet qui représente la connexion vers la base de données.\n",
    "fournir les paramètres host, user et password pour donner l’adresse du SGBDR, le login et le mot de passe de connexion.\n",
    "fournir également le paramètre database pour indiquer quelle base de données utiliser."
   ]
  },
  {
   "cell_type": "code",
   "execution_count": 14,
   "id": "5a5b7fea",
   "metadata": {},
   "outputs": [],
   "source": [
    "import mysql.connector "
   ]
  },
  {
   "cell_type": "code",
   "execution_count": 15,
   "id": "bf1887b7",
   "metadata": {},
   "outputs": [],
   "source": [
    "mydb = mysql.connector.connect( \n",
    "    host=\"localhost\", \n",
    "    user=\"root\", \n",
    "    password=\"root\", \n",
    "    database=\"dataengineer\"\n",
    ") \n",
    "\n",
    "\n",
    "mydb.close()"
   ]
  },
  {
   "cell_type": "code",
   "execution_count": 16,
   "id": "104004eb",
   "metadata": {},
   "outputs": [],
   "source": [
    "import mysql.connector\n",
    "\n",
    "config = {\n",
    "  'user': 'root',\n",
    "  'password': 'root',\n",
    "  'host': 'localhost',\n",
    "  'database': 'dataengineer',\n",
    "  'raise_on_warnings': True\n",
    "}\n",
    "\n",
    "cnx = mysql.connector.connect(**config)\n",
    "\n",
    "cnx.close()"
   ]
  },
  {
   "cell_type": "code",
   "execution_count": 17,
   "id": "5c5b1b5e",
   "metadata": {},
   "outputs": [],
   "source": [
    "request = \"select address_id, address, city, postal_code from address\"\n",
    "\n",
    "db = mysql.connector.connect(**config)\n",
    "#créer un curseur de base de données pour effectuer des opérations SQL\n",
    "c=db.cursor()\n",
    "c.execute(request)\n",
    "resultats = c.fetchall()\n"
   ]
  },
  {
   "cell_type": "markdown",
   "id": "3b173fcb",
   "metadata": {},
   "source": [
    "# 5 - récupération des colonnes de la table adresse sous une dataframe avec pandas"
   ]
  },
  {
   "cell_type": "code",
   "execution_count": 18,
   "id": "947eeef8",
   "metadata": {},
   "outputs": [],
   "source": [
    "import pandas as pd\n",
    "table_address= pd.DataFrame(resultats, columns = ['address_id', 'address', 'city', 'postal_code'])"
   ]
  },
  {
   "cell_type": "code",
   "execution_count": 19,
   "id": "dd227bfb",
   "metadata": {},
   "outputs": [
    {
     "data": {
      "text/plain": [
       "<bound method NDFrame.head of      address_id                  address                  city postal_code\n",
       "0             1     318 CHE DE ROUMAGOUA             LA CIOTAT       13600\n",
       "1             2         19 RUE DES DAMES         SAINTE SAVINE       10300\n",
       "2             3  22 RUE AMIRAL GUEPRATTE            LE CONQUET       29217\n",
       "3             4          6 BD DES ETINES             LE COTEAU       42120\n",
       "4             5      35 AV DU 159EME RIA              BRIANCON        5100\n",
       "..          ...                      ...                   ...         ...\n",
       "557         601              20 RUE COLI             MONTREUIL       93100\n",
       "558         602         6 AV JEAN JAURES                 FEURS       42110\n",
       "559         603     1 RUE HENRI RENAUDIN  CHARLEVILLE-MEZIERES        8000\n",
       "560         604            2 RUE DE LYON      EPINAY SUR SEINE       93800\n",
       "561         605        4 RUE DENIS PAPIN                 BLAIN       44130\n",
       "\n",
       "[562 rows x 4 columns]>"
      ]
     },
     "execution_count": 19,
     "metadata": {},
     "output_type": "execute_result"
    }
   ],
   "source": [
    "table_address.head"
   ]
  },
  {
   "cell_type": "code",
   "execution_count": 23,
   "id": "9a3d3cf4",
   "metadata": {},
   "outputs": [],
   "source": [
    "#table_address.columns "
   ]
  },
  {
   "cell_type": "code",
   "execution_count": 24,
   "id": "ea886a96",
   "metadata": {},
   "outputs": [],
   "source": [
    "#table_address['postal_code']"
   ]
  },
  {
   "cell_type": "code",
   "execution_count": 25,
   "id": "1288b5aa",
   "metadata": {},
   "outputs": [],
   "source": [
    "#table_address.postal_code[1]"
   ]
  },
  {
   "cell_type": "code",
   "execution_count": 26,
   "id": "0da87bc0",
   "metadata": {},
   "outputs": [],
   "source": [
    "#table_address.index #: les noms des lignes (individus), par exemple Index(['a1', 'a2', 'a3'], dtype='object').\n"
   ]
  },
  {
   "cell_type": "code",
   "execution_count": 27,
   "id": "9af894d8",
   "metadata": {},
   "outputs": [],
   "source": [
    "#table_address.values #: pour récupérer le dataframe sous forme d'array numpy 2d.\n"
   ]
  },
  {
   "cell_type": "code",
   "execution_count": 28,
   "id": "e35a026b",
   "metadata": {},
   "outputs": [],
   "source": [
    "#table_address.c"
   ]
  },
  {
   "cell_type": "markdown",
   "id": "4d91088b",
   "metadata": {},
   "source": [
    "# 6 - geocodage"
   ]
  },
  {
   "cell_type": "code",
   "execution_count": 29,
   "id": "b27cbce2",
   "metadata": {},
   "outputs": [
    {
     "name": "stdout",
     "output_type": "stream",
     "text": [
      "1\n",
      "2\n",
      "Skipping 3\n",
      "4\n",
      "5\n"
     ]
    }
   ],
   "source": [
    "i = 0\n",
    "for i in range(0,5):\n",
    "  i += 1\n",
    "  if i==3:\n",
    "    print(\"Skipping 3\")\n",
    "    continue\n",
    "  print(i)"
   ]
  },
  {
   "cell_type": "code",
   "execution_count": 30,
   "id": "330e00ae",
   "metadata": {},
   "outputs": [],
   "source": [
    "def LocationN(location):\n",
    "    geolocator = Nominatim(user_agent=\"testing app\")\n",
    "    try:\n",
    "        location = geolocator.geocode(location)\n",
    "    except:\n",
    "        result = \"null\"\n",
    "        pass\n",
    "    return (location.latitude, location.longitude) \n",
    "    "
   ]
  },
  {
   "cell_type": "code",
   "execution_count": 31,
   "id": "1acdf526",
   "metadata": {},
   "outputs": [],
   "source": [
    "adreSSS = [\"318 CHE DE ROUMAGOUA LA CIOTAT 13600\", \n",
    "          \"35 AV DU 159EME RIA BRIANCON 5100\", \n",
    "          \"22 RUE AMIRAL GUEPRATTE LE CONQUET 29217\"]"
   ]
  },
  {
   "cell_type": "code",
   "execution_count": 32,
   "id": "bd89d466",
   "metadata": {},
   "outputs": [],
   "source": [
    "#for ad in adreSSS : \n",
    "  #print(LocationN(ad))"
   ]
  },
  {
   "cell_type": "code",
   "execution_count": 33,
   "id": "36d593a6",
   "metadata": {},
   "outputs": [
    {
     "name": "stdout",
     "output_type": "stream",
     "text": [
      "012\n"
     ]
    }
   ],
   "source": [
    "a=10\n",
    "b=12\n",
    "z = str(0) + str(b)\n",
    "print(z)"
   ]
  },
  {
   "cell_type": "code",
   "execution_count": 21,
   "id": "cb77350f",
   "metadata": {},
   "outputs": [
    {
     "name": "stdout",
     "output_type": "stream",
     "text": [
      "['13600' '10300' '29217' '42120' '05100' '59151' '38330' '92600' '45000'\n",
      " '92200' '69210' '53360' '35131' '69006' '79340' '92240' '44600' '28100'\n",
      " '39120' '63100' '92250' '33800' '65140' '95560' '63100' '31200' '13008'\n",
      " '62400' '93150' '33000' '54000' '13430' '83300' '97150' '33200' '91090'\n",
      " '17000' '07120' '77148' '76000' '49300' '60120' '65100' '72100' '91940'\n",
      " '09110' '86490' '59270' '92600' '75019' '59680' '06220' '89140' '06400'\n",
      " '75015' '69110' '76600' '10310' '56100' '13014' '94600' '94800' '81000'\n",
      " '59130' '22000' '75014' '76600' '93190' '03200' '77140' '26100' '33120'\n",
      " '14210' '89000' '77270' '71190' '84170' '93110' '74500' '94500' '29200'\n",
      " '35220' '54700' '34370' '91530' '26000' '14800' '62126' '78600' '71240'\n",
      " '59800' '02000' '93360' '77370' '71460' '61300' '11100' '77560' '95200'\n",
      " '30640' '64700' '89200' '83600' '56800' '44760' '11300' '33400' '63970'\n",
      " '33950' '35490' '92300' '44260' '84200' '38000' '38360' '31600' '69005'\n",
      " '35310' '92500' '49500' '44300' '58440' '77300' '28400' '95110' '92400'\n",
      " '53150' '88700' '80090' '62680' '04210' '16100' '28190' '50330' '70100'\n",
      " '60200' '42260' '13200' '06230' '13760' '74520' '40150' '15000' '74800'\n",
      " '06310' '71500' '95480' '88400' '83270' '83300' '75009' '92200' '94130'\n",
      " '45120' '91600' '20000' '47000' '13090' '40465' '92140' '56000' '78660'\n",
      " '83310' '93700' '34480' '91600' '76620' '26000' '71230' '28630' '29280'\n",
      " '94360' '76600' '54130' '77400' '87280' '62320' '69290' '27730' '31000'\n",
      " '92500' '38100' '44116' '75011' '83150' '64240' '80000' '95100' '18520'\n",
      " '43750' '11370' '14000' '06600' '25310' '13008' '55500' '69340' '97442'\n",
      " '75019' '84570' '90500' '27290' '37000' '38300' '56500' '41100' '17540'\n",
      " '38690' '77160' '35540' '34230' '62630' '51430' '38114' '21300' '01220'\n",
      " '24000' '34360' '94200' '77140' '44590' '78810' '29950' '78360' '13100'\n",
      " '08360' '44210' '62200' '75011' '75020' '60000' '95190' '37380' '25300'\n",
      " '78370' '95200' '17000' '59840' '92250' '31370' '75007' '10100' '71500'\n",
      " '54000' '69005' '72000' '65100' '60600' '97218' '95170' '61130' '74250'\n",
      " '88380' '77700' '83130' '29380' '93150' '72250' '92100' '40300' '11100'\n",
      " '36000' '56000' '92110' '79300' '01230' '64122' '85470' '10100' '33700'\n",
      " '94800' '34660' '42000' '36150' '66300' '24000' '24000' '45200' '56330'\n",
      " '56400' '14100' '69005' '95100' '95380' '09120' '14120' '17600' '31520'\n",
      " '81260' '31700' '77260' '33110' '07300' '31200' '92100' '66500' '73290'\n",
      " '88580' '49100' '47310' '14123' '44200' '64300' '17000' '29420' '17250'\n",
      " '60180' '92210' '74800' '22000' '73200' '30540' '22740' '58400' '80000'\n",
      " '69003' '77930' '31600' '33500' '33680' '37000' '06310' '94120' '22000'\n",
      " '12230' '92140' '92300' '74370' '92130' '35000' '38980' '92110' '74370'\n",
      " '76240' '27700' '38100' '58000' '78260' '42000' '42390' '34000' '59430'\n",
      " '85000' '13800' '31380' '92360' '63360' '07000' '53000' '33140' '62100'\n",
      " '59500' '22970' '06600' '35000' '30700' '76150' '71800' '37270' '62570'\n",
      " '34540' '75017' '77000' '06250' '13014' '84000' '56890' '87000' '25300'\n",
      " '59260' '62590' '97400' '43000' '88260' '33700' '13600' '08210' '44800'\n",
      " '97137' '77520' '95610' '17650' '02100' '30420' '37300' '83160' '56100'\n",
      " '38300' '33500' '24220' '63000' '07200' '45500' '93700' '35800' '50610'\n",
      " '50250' '44600' '97417' '45800' '49100' '01090' '17220' '21000' '29830'\n",
      " '30670' '13090' '93800' '39400' '59290' '62176' '77144' '59800' '19000'\n",
      " '74270' '42100' '22160' '78125' '92130' '33700' '19240' '03500' '76290'\n",
      " '33000' '63800' '29200' '60000' '83160' '24260' '65150' '71510' '64200'\n",
      " '83240' '44640' '81150' '77400' '59800' '80400' '45360' '97470' '92700'\n",
      " '75003' '31700' '89600' '21000' '34540' '69480' '62000' '94120' '76420'\n",
      " '29260' '56000' '27000' '91550' '42100' '22700' '35410' '13010' '85200'\n",
      " '93100' '74960' '33800' '15150' '13015' '78440' '54630' '78300' '69290'\n",
      " '64000' '38100' '14100' '33510' '38100' '78360' '59140' '59240' '21500'\n",
      " '06000' '95320' '59350' '24000' '06200' '97417' '91540' '90000' '78000'\n",
      " '95870' '56000' '13110' '34400' '07000' '79260' '95500' '34830' '71500'\n",
      " '13580' '03410' '35000' '89140' '63130' '38130' '21130' '78160' '42100'\n",
      " '27400' '14590' '63000' '64310' '22400' '74350' '06200' '97480' '93150'\n",
      " '06600' '75003' '81190' '63100' '13003' '31190' '44570' '31300' '35200'\n",
      " '85470' '33000' '76620' '34500' '95100' '69003' '94800' '34670' '53000'\n",
      " '59120' '79410' '44600' '51100' '41130' '33110' '69100' '33130' '54150'\n",
      " '74000' '34000' '80000' '13540' '94500' '37250' '92500' '59280' '70100'\n",
      " '11430' '17540' '06300' '54000' '85000' '14680' '59500' '91290' '93100'\n",
      " '42110' '08000' '93800' '44130']\n"
     ]
    }
   ],
   "source": [
    "import numpy as np\n",
    "\n",
    "x=pd.array([])\n",
    "for i in table_address['postal_code']:\n",
    "     if len(str(i))<5:\n",
    "        i = str(0) + str(i)\n",
    "        #print(i)\n",
    "     x = np.append(x, i)\n",
    "             \n",
    "print(x)            "
   ]
  },
  {
   "cell_type": "code",
   "execution_count": 22,
   "id": "10b81d43",
   "metadata": {},
   "outputs": [
    {
     "name": "stdout",
     "output_type": "stream",
     "text": [
      "         0\n",
      "0    13600\n",
      "1    10300\n",
      "2    29217\n",
      "3    42120\n",
      "4    05100\n",
      "..     ...\n",
      "557  93100\n",
      "558  42110\n",
      "559  08000\n",
      "560  93800\n",
      "561  44130\n",
      "\n",
      "[562 rows x 1 columns]\n"
     ]
    }
   ],
   "source": [
    "y = pd.DataFrame(x)\n",
    "print(y)"
   ]
  },
  {
   "cell_type": "code",
   "execution_count": 85,
   "id": "a795ec90",
   "metadata": {},
   "outputs": [],
   "source": [
    "adresscomplet = table_address['address']+ ' ' +table_address['city']+' '+x"
   ]
  },
  {
   "cell_type": "code",
   "execution_count": 86,
   "id": "5cc08f40",
   "metadata": {},
   "outputs": [
    {
     "data": {
      "text/plain": [
       "0        318 CHE DE ROUMAGOUA LA CIOTAT 13600\n",
       "1        19 RUE DES DAMES SAINTE SAVINE 10300\n",
       "2    22 RUE AMIRAL GUEPRATTE LE CONQUET 29217\n",
       "3             6 BD DES ETINES LE COTEAU 42120\n",
       "4          35 AV DU 159EME RIA BRIANCON 05100\n",
       "dtype: object"
      ]
     },
     "execution_count": 86,
     "metadata": {},
     "output_type": "execute_result"
    }
   ],
   "source": [
    "adresscomplet.head()"
   ]
  },
  {
   "cell_type": "code",
   "execution_count": 30,
   "id": "eae06bbf",
   "metadata": {},
   "outputs": [],
   "source": [
    "lat = []\n",
    "long = []\n",
    "geolocator = Nominatim(user_agent=\"testing app\")\n",
    "for row in table_address['postal_code']:\n",
    "    addr = geolocator.geocode(row, timeout=10)\n",
    "    if addr is None:\n",
    "        lat.append(None)\n",
    "        long.append(None)\n",
    "    else:\n",
    "        latitude = addr.latitude\n",
    "        longitude = addr.longitude  \n",
    "    \n",
    "    lat.append(latitude)\n",
    "    long.append(longitude)\n",
    "    \n",
    "table_address['latitude'] = lat\n",
    "table_address['longitude'] = long"
   ]
  },
  {
   "cell_type": "code",
   "execution_count": 25,
   "id": "1fe1726a",
   "metadata": {},
   "outputs": [
    {
     "name": "stdout",
     "output_type": "stream",
     "text": [
      "(43.197642, 5.6078904)\n",
      "(48.2909051, 4.0457894)\n",
      "(48.3613399, -4.7667997)\n",
      "(46.021659, 4.0921204)\n"
     ]
    },
    {
     "ename": "AttributeError",
     "evalue": "'NoneType' object has no attribute 'latitude'",
     "output_type": "error",
     "traceback": [
      "\u001b[0;31m---------------------------------------------------------------------------\u001b[0m",
      "\u001b[0;31mAttributeError\u001b[0m                            Traceback (most recent call last)",
      "\u001b[0;32m<ipython-input-25-5342299ba2ee>\u001b[0m in \u001b[0;36m<module>\u001b[0;34m\u001b[0m\n\u001b[1;32m      1\u001b[0m \u001b[0;32mfor\u001b[0m \u001b[0mj\u001b[0m \u001b[0;32min\u001b[0m \u001b[0madresscomplet\u001b[0m \u001b[0;34m:\u001b[0m\u001b[0;34m\u001b[0m\u001b[0;34m\u001b[0m\u001b[0m\n\u001b[0;32m----> 2\u001b[0;31m         \u001b[0mprint\u001b[0m\u001b[0;34m(\u001b[0m\u001b[0mLocationName\u001b[0m\u001b[0;34m(\u001b[0m\u001b[0mj\u001b[0m\u001b[0;34m)\u001b[0m\u001b[0;34m)\u001b[0m\u001b[0;34m\u001b[0m\u001b[0;34m\u001b[0m\u001b[0m\n\u001b[0m\u001b[1;32m      3\u001b[0m \u001b[0;34m\u001b[0m\u001b[0m\n",
      "\u001b[0;32m<ipython-input-6-b0507ce7bca9>\u001b[0m in \u001b[0;36mLocationName\u001b[0;34m(location)\u001b[0m\n\u001b[1;32m      8\u001b[0m         \u001b[0;31m#active dans la portée courante. Si aucune exception n’est active dans\u001b[0m\u001b[0;34m\u001b[0m\u001b[0;34m\u001b[0m\u001b[0;34m\u001b[0m\u001b[0m\n\u001b[1;32m      9\u001b[0m         \u001b[0;31m#la portée courante, une exception RuntimeError est levée, indiquant que c’est une erreur.\"\"\"\u001b[0m\u001b[0;34m\u001b[0m\u001b[0;34m\u001b[0m\u001b[0;34m\u001b[0m\u001b[0m\n\u001b[0;32m---> 10\u001b[0;31m     \u001b[0;32mreturn\u001b[0m \u001b[0;34m(\u001b[0m\u001b[0mlocation\u001b[0m\u001b[0;34m.\u001b[0m\u001b[0mlatitude\u001b[0m\u001b[0;34m,\u001b[0m \u001b[0mlocation\u001b[0m\u001b[0;34m.\u001b[0m\u001b[0mlongitude\u001b[0m\u001b[0;34m)\u001b[0m\u001b[0;34m\u001b[0m\u001b[0;34m\u001b[0m\u001b[0m\n\u001b[0m",
      "\u001b[0;31mAttributeError\u001b[0m: 'NoneType' object has no attribute 'latitude'"
     ]
    }
   ],
   "source": [
    "for j in adresscomplet :\n",
    "        print(LocationName(j))    \n",
    "            "
   ]
  },
  {
   "cell_type": "code",
   "execution_count": 80,
   "id": "b8d8a0ab",
   "metadata": {},
   "outputs": [
    {
     "data": {
      "text/plain": [
       "count                                  562\n",
       "unique                                 560\n",
       "top       49 RUE DES CARNETS CLAMART 92140\n",
       "freq                                     2\n",
       "dtype: object"
      ]
     },
     "execution_count": 80,
     "metadata": {},
     "output_type": "execute_result"
    }
   ],
   "source": [
    "adresscomplet.describe()"
   ]
  },
  {
   "cell_type": "code",
   "execution_count": 71,
   "id": "c6baa027",
   "metadata": {},
   "outputs": [
    {
     "data": {
      "text/plain": [
       "count       562\n",
       "unique      449\n",
       "top       38100\n",
       "freq          4\n",
       "Name: postal_code, dtype: object"
      ]
     },
     "execution_count": 71,
     "metadata": {},
     "output_type": "execute_result"
    }
   ],
   "source": [
    "table_address['postal_code'].describe()"
   ]
  },
  {
   "cell_type": "code",
   "execution_count": 77,
   "id": "6fc7f1b4",
   "metadata": {},
   "outputs": [
    {
     "ename": "AttributeError",
     "evalue": "'numpy.ndarray' object has no attribute 'describe'",
     "output_type": "error",
     "traceback": [
      "\u001b[0;31m---------------------------------------------------------------------------\u001b[0m",
      "\u001b[0;31mAttributeError\u001b[0m                            Traceback (most recent call last)",
      "\u001b[0;32m<ipython-input-77-fbc4918424e4>\u001b[0m in \u001b[0;36m<module>\u001b[0;34m\u001b[0m\n\u001b[0;32m----> 1\u001b[0;31m \u001b[0mx\u001b[0m\u001b[0;34m.\u001b[0m\u001b[0mdescribe\u001b[0m\u001b[0;34m(\u001b[0m\u001b[0;34m)\u001b[0m\u001b[0;34m\u001b[0m\u001b[0;34m\u001b[0m\u001b[0m\n\u001b[0m",
      "\u001b[0;31mAttributeError\u001b[0m: 'numpy.ndarray' object has no attribute 'describe'"
     ]
    }
   ],
   "source": [
    "x.describe()"
   ]
  },
  {
   "cell_type": "code",
   "execution_count": 72,
   "id": "e6e8d8e9",
   "metadata": {},
   "outputs": [
    {
     "data": {
      "text/html": [
       "<div>\n",
       "<style scoped>\n",
       "    .dataframe tbody tr th:only-of-type {\n",
       "        vertical-align: middle;\n",
       "    }\n",
       "\n",
       "    .dataframe tbody tr th {\n",
       "        vertical-align: top;\n",
       "    }\n",
       "\n",
       "    .dataframe thead th {\n",
       "        text-align: right;\n",
       "    }\n",
       "</style>\n",
       "<table border=\"1\" class=\"dataframe\">\n",
       "  <thead>\n",
       "    <tr style=\"text-align: right;\">\n",
       "      <th></th>\n",
       "      <th>0</th>\n",
       "    </tr>\n",
       "  </thead>\n",
       "  <tbody>\n",
       "    <tr>\n",
       "      <th>count</th>\n",
       "      <td>562</td>\n",
       "    </tr>\n",
       "    <tr>\n",
       "      <th>unique</th>\n",
       "      <td>449</td>\n",
       "    </tr>\n",
       "    <tr>\n",
       "      <th>top</th>\n",
       "      <td>56000</td>\n",
       "    </tr>\n",
       "    <tr>\n",
       "      <th>freq</th>\n",
       "      <td>4</td>\n",
       "    </tr>\n",
       "  </tbody>\n",
       "</table>\n",
       "</div>"
      ],
      "text/plain": [
       "            0\n",
       "count     562\n",
       "unique    449\n",
       "top     56000\n",
       "freq        4"
      ]
     },
     "execution_count": 72,
     "metadata": {},
     "output_type": "execute_result"
    }
   ],
   "source": [
    "y.describe()"
   ]
  },
  {
   "cell_type": "code",
   "execution_count": 64,
   "id": "63203b45",
   "metadata": {},
   "outputs": [
    {
     "ename": "AttributeError",
     "evalue": "'NoneType' object has no attribute 'latitude'",
     "output_type": "error",
     "traceback": [
      "\u001b[0;31m---------------------------------------------------------------------------\u001b[0m",
      "\u001b[0;31mAttributeError\u001b[0m                            Traceback (most recent call last)",
      "\u001b[0;32m<ipython-input-64-9f15562f937a>\u001b[0m in \u001b[0;36m<module>\u001b[0;34m\u001b[0m\n\u001b[1;32m      1\u001b[0m \u001b[0;32mfor\u001b[0m \u001b[0mj\u001b[0m \u001b[0;32min\u001b[0m \u001b[0madresscomplet\u001b[0m \u001b[0;34m:\u001b[0m\u001b[0;34m\u001b[0m\u001b[0;34m\u001b[0m\u001b[0m\n\u001b[0;32m----> 2\u001b[0;31m     \u001b[0mprint\u001b[0m\u001b[0;34m(\u001b[0m\u001b[0mLocationName\u001b[0m\u001b[0;34m(\u001b[0m\u001b[0mj\u001b[0m\u001b[0;34m)\u001b[0m\u001b[0;34m)\u001b[0m\u001b[0;34m\u001b[0m\u001b[0;34m\u001b[0m\u001b[0m\n\u001b[0m\u001b[1;32m      3\u001b[0m \u001b[0;34m\u001b[0m\u001b[0m\n",
      "\u001b[0;32m<ipython-input-4-b0507ce7bca9>\u001b[0m in \u001b[0;36mLocationName\u001b[0;34m(location)\u001b[0m\n\u001b[1;32m      8\u001b[0m         \u001b[0;31m#active dans la portée courante. Si aucune exception n’est active dans\u001b[0m\u001b[0;34m\u001b[0m\u001b[0;34m\u001b[0m\u001b[0;34m\u001b[0m\u001b[0m\n\u001b[1;32m      9\u001b[0m         \u001b[0;31m#la portée courante, une exception RuntimeError est levée, indiquant que c’est une erreur.\"\"\"\u001b[0m\u001b[0;34m\u001b[0m\u001b[0;34m\u001b[0m\u001b[0;34m\u001b[0m\u001b[0m\n\u001b[0;32m---> 10\u001b[0;31m     \u001b[0;32mreturn\u001b[0m \u001b[0;34m(\u001b[0m\u001b[0mlocation\u001b[0m\u001b[0;34m.\u001b[0m\u001b[0mlatitude\u001b[0m\u001b[0;34m,\u001b[0m \u001b[0mlocation\u001b[0m\u001b[0;34m.\u001b[0m\u001b[0mlongitude\u001b[0m\u001b[0;34m)\u001b[0m\u001b[0;34m\u001b[0m\u001b[0;34m\u001b[0m\u001b[0m\n\u001b[0m",
      "\u001b[0;31mAttributeError\u001b[0m: 'NoneType' object has no attribute 'latitude'"
     ]
    }
   ],
   "source": [
    "for i in table_address['postal_code']:\n",
    "    for j in adresscomplet :\n",
    "            if len(str(i))<5 or len(str(i))>5 :\n",
    "                print(\"NULL\")\n",
    "                continue\n",
    "            print(LocationName(j))    \n",
    "            \n",
    "            "
   ]
  },
  {
   "cell_type": "code",
   "execution_count": 27,
   "id": "94bfb4ec",
   "metadata": {},
   "outputs": [
    {
     "data": {
      "text/plain": [
       "'\\nrequest = \"select postal_code from address\"\\n\\ndb = mysql.connector.connect(**config)\\nc=db.cursor()\\nc.execute(request)\\nresultats = c.fetchall()\\nadd_code=[]\\nfor code in resultats:\\n    print(code)\\n    add_code.append([code])   '"
      ]
     },
     "execution_count": 27,
     "metadata": {},
     "output_type": "execute_result"
    }
   ],
   "source": [
    "\"\"\"\n",
    "request = \"select postal_code from address\"\n",
    "\n",
    "db = mysql.connector.connect(**config)\n",
    "c=db.cursor()\n",
    "c.execute(request)\n",
    "resultats = c.fetchall()\n",
    "add_code=[]\n",
    "for code in resultats:\n",
    "    print(code)\n",
    "    add_code.append([code])   \"\"\""
   ]
  },
  {
   "cell_type": "code",
   "execution_count": 56,
   "id": "b48ce1f4",
   "metadata": {},
   "outputs": [
    {
     "data": {
      "text/plain": [
       "'\\nimport numpy as np\\nadd_cod_np = np.array(add_code) '"
      ]
     },
     "execution_count": 56,
     "metadata": {},
     "output_type": "execute_result"
    }
   ],
   "source": [
    "\"\"\"\n",
    "import numpy as np\n",
    "add_cod_np = np.array(add_code) \"\"\""
   ]
  },
  {
   "cell_type": "code",
   "execution_count": 50,
   "id": "1ad17b8b",
   "metadata": {},
   "outputs": [
    {
     "data": {
      "text/plain": [
       "'adresscomplet = table_address[\\'address\\']+ \\' \\' +table_address[\\'city\\']+\\' \\'+table_address[\\'postal_code\\']\\nk = 0\\nfor j in adresscomplet :\\n    adresscomplet[k]=adresscomplet[k]+1  \\n    for k in range(0,len(adresscomplet)) :\\n            for i in table_address[\\'postal_code\\']:\\n                if len(str(i)) <5: \\n                    print(\"NULL\")\\n                    continue\\n    print(LocationName(j))'"
      ]
     },
     "execution_count": 50,
     "metadata": {},
     "output_type": "execute_result"
    }
   ],
   "source": [
    "\"\"\"adresscomplet = table_address['address']+ ' ' +table_address['city']+' '+table_address['postal_code']\n",
    "k = 0\n",
    "for j in adresscomplet :\n",
    "    adresscomplet[k]=adresscomplet[k]+1  \n",
    "    for k in range(0,len(adresscomplet)) :\n",
    "            for i in table_address['postal_code']:\n",
    "                if len(str(i)) <5: \n",
    "                    print(\"NULL\")\n",
    "                    continue\n",
    "    print(LocationName(j))\"\"\"\n"
   ]
  },
  {
   "cell_type": "code",
   "execution_count": 44,
   "id": "b03c2916",
   "metadata": {},
   "outputs": [
    {
     "data": {
      "text/plain": [
       "'adresscomplet = table_address[\\'address\\']+ \\' \\' +table_address[\\'city\\']+\\' \\'+table_address[\\'postal_code\\']\\nfor i in table_address[\\'postal_code\\']:\\n    for j in adresscomplet :\\n        if len(str(i)) ==5:\\n            print(LocationName(j))\\n            continue\\n        else :  print(\"NULL\") '"
      ]
     },
     "execution_count": 44,
     "metadata": {},
     "output_type": "execute_result"
    }
   ],
   "source": [
    "\"\"\"adresscomplet = table_address['address']+ ' ' +table_address['city']+' '+table_address['postal_code']\n",
    "for i in table_address['postal_code']:\n",
    "    for j in adresscomplet :\n",
    "        if len(str(i)) ==5:\n",
    "            print(LocationName(j))\n",
    "            continue\n",
    "        else :  print(\"NULL\") \"\"\"\n"
   ]
  },
  {
   "cell_type": "code",
   "execution_count": 34,
   "id": "22580c78",
   "metadata": {},
   "outputs": [
    {
     "data": {
      "text/plain": [
       "\"adresscomplet = table_address['address']+ ' ' +table_address['city']+' '+table_address['postal_code']\\nfor j in adresscomplet :\\n    print(LocationName(j))\\n       \""
      ]
     },
     "execution_count": 34,
     "metadata": {},
     "output_type": "execute_result"
    }
   ],
   "source": [
    "\"\"\"adresscomplet = table_address['address']+ ' ' +table_address['city']+' '+table_address['postal_code']\n",
    "for j in adresscomplet :\n",
    "    print(LocationName(j))\n",
    "       \"\"\"\n"
   ]
  },
  {
   "cell_type": "code",
   "execution_count": null,
   "id": "8c8bbe18",
   "metadata": {},
   "outputs": [],
   "source": []
  }
 ],
 "metadata": {
  "kernelspec": {
   "display_name": "Python 3",
   "language": "python",
   "name": "python3"
  },
  "language_info": {
   "codemirror_mode": {
    "name": "ipython",
    "version": 3
   },
   "file_extension": ".py",
   "mimetype": "text/x-python",
   "name": "python",
   "nbconvert_exporter": "python",
   "pygments_lexer": "ipython3",
   "version": "3.8.8"
  }
 },
 "nbformat": 4,
 "nbformat_minor": 5
}
